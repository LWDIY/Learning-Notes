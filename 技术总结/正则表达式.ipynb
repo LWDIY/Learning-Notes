{
 "cells": [
  {
   "cell_type": "markdown",
   "metadata": {},
   "source": [
    "# 常用正则表达式http://tool.oschina.net/uploads/apidocs/jquery/regexp.html"
   ]
  },
  {
   "cell_type": "markdown",
   "metadata": {},
   "source": [
    "## 1. match()    从字符串起始位置匹配正则表达式，若匹配到，返回结果，未匹配，返回None!"
   ]
  },
  {
   "cell_type": "code",
   "execution_count": null,
   "metadata": {},
   "outputs": [],
   "source": [
    "import re"
   ]
  },
  {
   "cell_type": "code",
   "execution_count": null,
   "metadata": {},
   "outputs": [],
   "source": [
    "content = 'Hello 123 4567 World_This is a Regex Demo'\n",
    "print(content)"
   ]
  },
  {
   "cell_type": "code",
   "execution_count": null,
   "metadata": {},
   "outputs": [],
   "source": [
    "result = re.match('^Hello\\s\\d\\d\\d\\s\\d{4}\\s\\w{10}',content)\n",
    "print(result)\n",
    "print(result.group())       # group可以输出匹配到的内容"
   ]
  },
  {
   "cell_type": "markdown",
   "metadata": {},
   "source": [
    "### 1.1.提取目标。将想要提取部分的正则表达式用（）括起来，即可用group（）提取"
   ]
  },
  {
   "cell_type": "code",
   "execution_count": null,
   "metadata": {},
   "outputs": [],
   "source": [
    "content = 'Hello 123 4567 World_This is a Regex Demo'\n",
    "result = re.match('^Hello\\s(\\d+)\\s(\\d{4})\\sWorld',content)\n",
    "print(result)\n",
    "print(result.group(1))     #匹配123\n",
    "print(result.group(2))     #匹配4567"
   ]
  },
  {
   "cell_type": "markdown",
   "metadata": {},
   "source": [
    "### 1.2通用匹配。 .（点）可以匹配任意字符（除换行符），*（星）匹配前面字符无数次"
   ]
  },
  {
   "cell_type": "code",
   "execution_count": null,
   "metadata": {},
   "outputs": [],
   "source": [
    "content = 'Hello 123 4567 World_This is a Regex Demo'\n",
    "\n",
    "result  = re.match('^Hello.*Demo$',content)\n",
    "print(result)\n",
    "print(result.group())"
   ]
  },
  {
   "cell_type": "markdown",
   "metadata": {},
   "source": [
    "### 1.3贪婪匹配。  .*  匹配尽可能多的字符。"
   ]
  },
  {
   "cell_type": "code",
   "execution_count": null,
   "metadata": {},
   "outputs": [],
   "source": [
    "content = 'Hello 123 4567 World_This is a Regex Demo'\n",
    "\n",
    "result = re.match('^Hello.*(\\d+).*Demo$',content)\n",
    "print(result)\n",
    "print(result.group(1))          \n",
    "#   本意是想获取中间的数字，结果只得到了7，\n",
    "#   .*后面是\\d+，也就是至少一个数字，没具体指定多少个，所以就把123456全部匹配了，给\\d+ 留下一个满足的数字7"
   ]
  },
  {
   "cell_type": "markdown",
   "metadata": {},
   "source": [
    "### 1.4非贪婪匹配。 .*? 尽可能匹配少的字符。 字符串间尽量用非贪婪匹配。"
   ]
  },
  {
   "cell_type": "code",
   "execution_count": null,
   "metadata": {},
   "outputs": [],
   "source": [
    "content = 'Hello 123 4567 World_This is a Regex Demo'\n",
    "\n",
    "result = re.match('^Hello.*?(\\d+).*Demo$',content)\n",
    "print(result)\n",
    "print(result.group(1))  \n",
    "# 当.*？匹配到Hello后面的空白字符时，再往后就是数字，而\\d刚好可以匹配，.*?就不再匹配，留给\\d去匹配。\n",
    "#123后面有个空格，所以不匹配4567."
   ]
  },
  {
   "cell_type": "code",
   "execution_count": null,
   "metadata": {},
   "outputs": [],
   "source": [
    "#  当提取字段在末尾时\n",
    "content = 'https://www.baidu.com/liwei'\n",
    "\n",
    "result = re.match('^http.*?com/(.*?)',content)\n",
    "print(result.group(1))      \n",
    "# 此时非贪婪匹配啥都匹配不到"
   ]
  },
  {
   "cell_type": "code",
   "execution_count": null,
   "metadata": {},
   "outputs": [],
   "source": [
    "content = 'https://www.baidu.com/liwei'\n",
    "\n",
    "result = re.match('^http.*?com/(.*)',content)\n",
    "print(result.group(1))\n",
    "#  贪婪匹配可以匹配到"
   ]
  },
  {
   "cell_type": "markdown",
   "metadata": {},
   "source": [
    "### 1.5修饰符re.S        .（点）可以匹配任意字符（除换行符），有换行符时，  .*?无法使用，需要加re.S 使 .(点)匹配到包括              换行符在内的所有字符。"
   ]
  },
  {
   "cell_type": "code",
   "execution_count": null,
   "metadata": {},
   "outputs": [],
   "source": [
    "content = '''Hello 123 4567 World_This is\n",
    "a Regex Demo\n",
    "'''\n",
    "result = re.match('^Hello.*?(\\d+).*?Demo$',content,re.S)\n",
    "print(result.group(1))"
   ]
  },
  {
   "cell_type": "markdown",
   "metadata": {},
   "source": [
    "### 1.6转义匹配。处理目标字符串包含 .(点)，？（问号）之类的。"
   ]
  },
  {
   "cell_type": "code",
   "execution_count": null,
   "metadata": {},
   "outputs": [],
   "source": [
    "content = '(百度)www.baidu.com'\n",
    "\n",
    "result = re.match('\\(百度\\)www\\.baidu\\.com',content)\n",
    "print(result)"
   ]
  },
  {
   "cell_type": "markdown",
   "metadata": {},
   "source": [
    "## 2  search()。扫描整个字符串，返回第一个成功匹配的，若搜索完还没找到，就返回None"
   ]
  },
  {
   "cell_type": "code",
   "execution_count": null,
   "metadata": {},
   "outputs": [],
   "source": [
    "content = 'Extra stings Hello 1234567 World_This is a Regex Demo Extra stings'\n",
    "\n",
    "result = re.search('Hello.*?(\\d+).*?Demo',content)\n",
    "print(result.group())\n",
    "print(result.group(1))"
   ]
  },
  {
   "cell_type": "markdown",
   "metadata": {},
   "source": [
    "## 3 findall()。找到匹配正则表达式的所有内容。"
   ]
  },
  {
   "cell_type": "code",
   "execution_count": null,
   "metadata": {},
   "outputs": [],
   "source": [
    " content = '''<dd>\n",
    "                        <i class=\"board-index board-index-2\">2</i>\n",
    "    <a href=\"/films/1297\" title=\"肖申克的救赎\" class=\"image-link\" data-act=\"boarditem-click\" data-val=\"{movieId:1297}\">\n",
    "      <img src=\"//s0.meituan.net/bs/?f=myfe/mywww:/image/loading_2.e3d934bf.png\" alt=\"\" class=\"poster-default\" />\n",
    "      <img data-src=\"https://p0.meituan.net/movie/283292171619cdfd5b240c8fd093f1eb255670.jpg@160w_220h_1e_1c\" alt=\"肖申克的救赎\" class=\"board-img\" />\n",
    "    </a>\n",
    "    <div class=\"board-item-main\">\n",
    "      <div class=\"board-item-content\">\n",
    "              <div class=\"movie-item-info\">\n",
    "        <p class=\"name\"><a href=\"/films/1297\" title=\"肖申克的救赎\" data-act=\"boarditem-click\" data-val=\"{movieId:1297}\">肖申克的救赎</a></p>\n",
    "        <p class=\"star\">\n",
    "                主演：蒂姆·罗宾斯,摩根·弗里曼,鲍勃·冈顿\n",
    "        </p>\n",
    "<p class=\"releasetime\">上映时间：1994-10-14(美国)</p>    </div>\n",
    "    <div class=\"movie-item-number score-num\">\n",
    "<p class=\"score\"><i class=\"integer\">9.</i><i class=\"fraction\">5</i></p>        \n",
    "    </div>\n",
    "\n",
    "      </div>\n",
    "    </div>\n",
    "\n",
    "                </dd>\n",
    "                <dd>\n",
    "                        <i class=\"board-index board-index-3\">3</i>\n",
    "    <a href=\"/films/2641\" title=\"罗马假日\" class=\"image-link\" data-act=\"boarditem-click\" data-val=\"{movieId:2641}\">\n",
    "      <img src=\"//s0.meituan.net/bs/?f=myfe/mywww:/image/loading_2.e3d934bf.png\" alt=\"\" class=\"poster-default\" />\n",
    "      <img data-src=\"https://p0.meituan.net/movie/289f98ceaa8a0ae737d3dc01cd05ab052213631.jpg@160w_220h_1e_1c\" alt=\"罗马假日\" class=\"board-img\" />\n",
    "    </a>\n",
    "    <div class=\"board-item-main\">\n",
    "      <div class=\"board-item-content\">\n",
    "              <div class=\"movie-item-info\">\n",
    "        <p class=\"name\"><a href=\"/films/2641\" title=\"罗马假日\" data-act=\"boarditem-click\" data-val=\"{movieId:2641}\">罗马假日</a></p>\n",
    "        <p class=\"star\">\n",
    "                主演：格利高里·派克,奥黛丽·赫本,埃迪·艾伯特\n",
    "        </p>\n",
    "<p class=\"releasetime\">上映时间：1953-09-02(美国)</p>    </div>\n",
    "    <div class=\"movie-item-number score-num\">\n",
    "<p class=\"score\"><i class=\"integer\">9.</i><i class=\"fraction\">1</i></p>        \n",
    "    </div>\n",
    "\n",
    "      </div>\n",
    "    </div>\n",
    "\n",
    "                </dd>\n",
    "                <dd>\n",
    "                        <i class=\"board-index board-index-4\">4</i>\n",
    "    <a href=\"/films/4055\" title=\"这个杀手不太冷\" class=\"image-link\" data-act=\"boarditem-click\" data-val=\"{movieId:4055}\">\n",
    "      <img src=\"//s0.meituan.net/bs/?f=myfe/mywww:/image/loading_2.e3d934bf.png\" alt=\"\" class=\"poster-default\" />\n",
    "      <img data-src=\"https://p1.meituan.net/movie/6bea9af4524dfbd0b668eaa7e187c3df767253.jpg@160w_220h_1e_1c\" alt=\"这个杀手不太冷\" class=\"board-img\" />\n",
    "    </a>\n",
    "    <div class=\"board-item-main\">\n",
    "      <div class=\"board-item-content\">\n",
    "              <div class=\"movie-item-info\">\n",
    "        <p class=\"name\"><a href=\"/films/4055\" title=\"这个杀手不太冷\" data-act=\"boarditem-click\" data-val=\"{movieId:4055}\">这个杀手不太冷</a></p>\n",
    "        <p class=\"star\">\n",
    "                主演：让·雷诺,加里·奥德曼,娜塔莉·波特曼\n",
    "        </p>\n",
    "<p class=\"releasetime\">上映时间：1994-09-14(法国)</p>    </div>\n",
    "    <div class=\"movie-item-number score-num\">\n",
    "<p class=\"score\"><i class=\"integer\">9.</i><i class=\"fraction\">5</i></p>        \n",
    "    </div>\n",
    "\n",
    "      </div>\n",
    "    </div>\n",
    "\n",
    "                </dd>'''\n",
    "    \n"
   ]
  },
  {
   "cell_type": "code",
   "execution_count": null,
   "metadata": {},
   "outputs": [],
   "source": [
    "result = re.findall('<p.*?name.*?title=\"(.*?)\".*?</p>',content)\n",
    "print(result)"
   ]
  },
  {
   "cell_type": "markdown",
   "metadata": {},
   "source": [
    "## 4.  sub()。  修改文本。替换。"
   ]
  },
  {
   "cell_type": "code",
   "execution_count": null,
   "metadata": {},
   "outputs": [],
   "source": [
    "content = '123AS5sx584sdKP421'\n",
    "content = re.sub('\\d','',content)\n",
    "print(content)"
   ]
  },
  {
   "cell_type": "markdown",
   "metadata": {},
   "source": [
    "## 5. compile()。 将正则字符串编译成正则表达式对象，方便在以后匹配中复用。"
   ]
  },
  {
   "cell_type": "code",
   "execution_count": null,
   "metadata": {},
   "outputs": [],
   "source": [
    "content1 = '2016-12-15 12:00' \n",
    "content2 = '2016-12-17 12:55'\n",
    "content3 = '2016-12-22 13:21'\n",
    "pattern = re.compile('\\d{2}:\\d{2}')              #  compile() 相当于提前设计好一个模式，直接拿来用。\n",
    "result1 = re.sub(pattern,'',content1)\n",
    "result2 = re.sub(pattern,'',content2)\n",
    "result3 = re.sub(pattern,'',content3)\n",
    "print(result1)\n",
    "print(result2)\n",
    "print(result3)"
   ]
  }
 ],
 "metadata": {
  "kernelspec": {
   "display_name": "Python 3",
   "language": "python",
   "name": "python3"
  },
  "language_info": {
   "codemirror_mode": {
    "name": "ipython",
    "version": 3
   },
   "file_extension": ".py",
   "mimetype": "text/x-python",
   "name": "python",
   "nbconvert_exporter": "python",
   "pygments_lexer": "ipython3",
   "version": "3.6.5"
  }
 },
 "nbformat": 4,
 "nbformat_minor": 2
}
